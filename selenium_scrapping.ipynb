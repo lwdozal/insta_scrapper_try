{
 "cells": [
  {
   "cell_type": "code",
   "execution_count": 1,
   "id": "be39a42e",
   "metadata": {},
   "outputs": [],
   "source": [
    "# install packages\n",
    "# Some script is from https://medium.com/analytics-vidhya/web-scraping-instagram-with-selenium-python-b8e77af32ad4\n",
    "# Extra Support https://scrapfly.io/blog/how-to-scrape-instagram/\n",
    "\n",
    "# %pip install instagramy\n",
    "# %pip install selenium\n",
    "# %pip install time\n",
    "# %pip install requests"
   ]
  },
  {
   "cell_type": "code",
   "execution_count": 2,
   "id": "4ce74da6",
   "metadata": {},
   "outputs": [],
   "source": [
    "#import the libraries\n",
    "\n",
    "import instagramy\n",
    "import os\n",
    "from selenium import webdriver\n",
    "from selenium.webdriver.common.keys import Keys\n",
    "import time, urllib.request\n",
    "import requests\n",
    "\n",
    "from instagramy import *\n",
    "import pandas as pd\n",
    "import numpy as np"
   ]
  },
  {
   "cell_type": "code",
   "execution_count": 9,
   "id": "10f14de9",
   "metadata": {},
   "outputs": [
    {
     "name": "stderr",
     "output_type": "stream",
     "text": [
      "C:\\Users\\LW\\AppData\\Local\\Temp\\ipykernel_14496\\3710017190.py:8: DeprecationWarning: executable_path has been deprecated, please pass in a Service object\n",
      "  driver = webdriver.Chrome(PATH)\n"
     ]
    }
   ],
   "source": [
    "# Open chrome browser\n",
    "# make sure to add the PATH to Environment Variables\n",
    "\n",
    "# The PATH code is the code that aims to connect our code with the browser. \n",
    "# Here the code logic about PATH is below:\n",
    "\n",
    "PATH = r\"C:\\Users\\LW\\Programs Files\\Python\\Python38-32\\Python38-32\\chromedriver.exe\"\n",
    "driver = webdriver.Chrome(PATH)\n",
    "# driver = webdriver.Chrome(executable_path = \"C:\\Users\\LW\\Programs Files\\Python\\Python38-32\\Python38-32\\chromedriver.exe\")\n"
   ]
  },
  {
   "cell_type": "code",
   "execution_count": 10,
   "id": "13b27795",
   "metadata": {},
   "outputs": [
    {
     "ename": "InvalidSelectorException",
     "evalue": "Message: invalid selector: An invalid or illegal selector was specified\n  (Session info: chrome=105.0.5195.102)\nStacktrace:\nBacktrace:\n\tOrdinal0 [0x00B6DF13+2219795]\n\tOrdinal0 [0x00B02841+1779777]\n\tOrdinal0 [0x00A1423D+803389]\n\tOrdinal0 [0x00A16D04+814340]\n\tOrdinal0 [0x00A16BC2+814018]\n\tOrdinal0 [0x00A16E50+814672]\n\tOrdinal0 [0x00A42D4F+994639]\n\tOrdinal0 [0x00A431EB+995819]\n\tOrdinal0 [0x00A70F52+1183570]\n\tOrdinal0 [0x00A5E844+1108036]\n\tOrdinal0 [0x00A6F192+1175954]\n\tOrdinal0 [0x00A5E616+1107478]\n\tOrdinal0 [0x00A37F89+950153]\n\tOrdinal0 [0x00A38F56+954198]\n\tGetHandleVerifier [0x00E62CB2+3040210]\n\tGetHandleVerifier [0x00E52BB4+2974420]\n\tGetHandleVerifier [0x00C06A0A+565546]\n\tGetHandleVerifier [0x00C05680+560544]\n\tOrdinal0 [0x00B09A5C+1808988]\n\tOrdinal0 [0x00B0E3A8+1827752]\n\tOrdinal0 [0x00B0E495+1827989]\n\tOrdinal0 [0x00B180A4+1867940]\n\tBaseThreadInitThunk [0x76626739+25]\n\tRtlGetFullPathName_UEx [0x779290AF+1215]\n\tRtlGetFullPathName_UEx [0x7792907D+1165]\n",
     "output_type": "error",
     "traceback": [
      "\u001b[1;31m---------------------------------------------------------------------------\u001b[0m",
      "\u001b[1;31mInvalidSelectorException\u001b[0m                  Traceback (most recent call last)",
      "Input \u001b[1;32mIn [10]\u001b[0m, in \u001b[0;36m<cell line: 17>\u001b[1;34m()\u001b[0m\n\u001b[0;32m     14\u001b[0m \u001b[38;5;66;03m# skip pop-ups\u001b[39;00m\n\u001b[0;32m     15\u001b[0m \u001b[38;5;66;03m#save your login info?\u001b[39;00m\n\u001b[0;32m     16\u001b[0m time\u001b[38;5;241m.\u001b[39msleep(\u001b[38;5;241m10\u001b[39m)\n\u001b[1;32m---> 17\u001b[0m notnow \u001b[38;5;241m=\u001b[39m \u001b[43mdriver\u001b[49m\u001b[38;5;241;43m.\u001b[39;49m\u001b[43mfind_element\u001b[49m\u001b[43m(\u001b[49m\u001b[38;5;124;43m\"\u001b[39;49m\u001b[38;5;124;43mcss selector\u001b[39;49m\u001b[38;5;124;43m\"\u001b[39;49m\u001b[43m,\u001b[49m\u001b[43m \u001b[49m\u001b[38;5;124;43m\"\u001b[39;49m\u001b[38;5;124;43m//button[contains(text(), \u001b[39;49m\u001b[38;5;124;43m'\u001b[39;49m\u001b[38;5;124;43mNot Now\u001b[39;49m\u001b[38;5;124;43m'\u001b[39;49m\u001b[38;5;124;43m)]\u001b[39;49m\u001b[38;5;124;43m\"\u001b[39;49m\u001b[43m)\u001b[49m\u001b[38;5;241m.\u001b[39mclick()\n\u001b[0;32m     18\u001b[0m \u001b[38;5;66;03m#turn on notif\u001b[39;00m\n\u001b[0;32m     19\u001b[0m time\u001b[38;5;241m.\u001b[39msleep(\u001b[38;5;241m10\u001b[39m)\n",
      "File \u001b[1;32m~\\anaconda3\\anaconda3_new\\lib\\site-packages\\selenium\\webdriver\\remote\\webdriver.py:855\u001b[0m, in \u001b[0;36mWebDriver.find_element\u001b[1;34m(self, by, value)\u001b[0m\n\u001b[0;32m    852\u001b[0m     by \u001b[38;5;241m=\u001b[39m By\u001b[38;5;241m.\u001b[39mCSS_SELECTOR\n\u001b[0;32m    853\u001b[0m     value \u001b[38;5;241m=\u001b[39m \u001b[38;5;124m'\u001b[39m\u001b[38;5;124m[name=\u001b[39m\u001b[38;5;124m\"\u001b[39m\u001b[38;5;132;01m%s\u001b[39;00m\u001b[38;5;124m\"\u001b[39m\u001b[38;5;124m]\u001b[39m\u001b[38;5;124m'\u001b[39m \u001b[38;5;241m%\u001b[39m value\n\u001b[1;32m--> 855\u001b[0m \u001b[38;5;28;01mreturn\u001b[39;00m \u001b[38;5;28;43mself\u001b[39;49m\u001b[38;5;241;43m.\u001b[39;49m\u001b[43mexecute\u001b[49m\u001b[43m(\u001b[49m\u001b[43mCommand\u001b[49m\u001b[38;5;241;43m.\u001b[39;49m\u001b[43mFIND_ELEMENT\u001b[49m\u001b[43m,\u001b[49m\u001b[43m \u001b[49m\u001b[43m{\u001b[49m\n\u001b[0;32m    856\u001b[0m \u001b[43m    \u001b[49m\u001b[38;5;124;43m'\u001b[39;49m\u001b[38;5;124;43musing\u001b[39;49m\u001b[38;5;124;43m'\u001b[39;49m\u001b[43m:\u001b[49m\u001b[43m \u001b[49m\u001b[43mby\u001b[49m\u001b[43m,\u001b[49m\n\u001b[0;32m    857\u001b[0m \u001b[43m    \u001b[49m\u001b[38;5;124;43m'\u001b[39;49m\u001b[38;5;124;43mvalue\u001b[39;49m\u001b[38;5;124;43m'\u001b[39;49m\u001b[43m:\u001b[49m\u001b[43m \u001b[49m\u001b[43mvalue\u001b[49m\u001b[43m}\u001b[49m\u001b[43m)\u001b[49m[\u001b[38;5;124m'\u001b[39m\u001b[38;5;124mvalue\u001b[39m\u001b[38;5;124m'\u001b[39m]\n",
      "File \u001b[1;32m~\\anaconda3\\anaconda3_new\\lib\\site-packages\\selenium\\webdriver\\remote\\webdriver.py:428\u001b[0m, in \u001b[0;36mWebDriver.execute\u001b[1;34m(self, driver_command, params)\u001b[0m\n\u001b[0;32m    426\u001b[0m response \u001b[38;5;241m=\u001b[39m \u001b[38;5;28mself\u001b[39m\u001b[38;5;241m.\u001b[39mcommand_executor\u001b[38;5;241m.\u001b[39mexecute(driver_command, params)\n\u001b[0;32m    427\u001b[0m \u001b[38;5;28;01mif\u001b[39;00m response:\n\u001b[1;32m--> 428\u001b[0m     \u001b[38;5;28;43mself\u001b[39;49m\u001b[38;5;241;43m.\u001b[39;49m\u001b[43merror_handler\u001b[49m\u001b[38;5;241;43m.\u001b[39;49m\u001b[43mcheck_response\u001b[49m\u001b[43m(\u001b[49m\u001b[43mresponse\u001b[49m\u001b[43m)\u001b[49m\n\u001b[0;32m    429\u001b[0m     response[\u001b[38;5;124m'\u001b[39m\u001b[38;5;124mvalue\u001b[39m\u001b[38;5;124m'\u001b[39m] \u001b[38;5;241m=\u001b[39m \u001b[38;5;28mself\u001b[39m\u001b[38;5;241m.\u001b[39m_unwrap_value(\n\u001b[0;32m    430\u001b[0m         response\u001b[38;5;241m.\u001b[39mget(\u001b[38;5;124m'\u001b[39m\u001b[38;5;124mvalue\u001b[39m\u001b[38;5;124m'\u001b[39m, \u001b[38;5;28;01mNone\u001b[39;00m))\n\u001b[0;32m    431\u001b[0m     \u001b[38;5;28;01mreturn\u001b[39;00m response\n",
      "File \u001b[1;32m~\\anaconda3\\anaconda3_new\\lib\\site-packages\\selenium\\webdriver\\remote\\errorhandler.py:243\u001b[0m, in \u001b[0;36mErrorHandler.check_response\u001b[1;34m(self, response)\u001b[0m\n\u001b[0;32m    241\u001b[0m         alert_text \u001b[38;5;241m=\u001b[39m value[\u001b[38;5;124m'\u001b[39m\u001b[38;5;124malert\u001b[39m\u001b[38;5;124m'\u001b[39m]\u001b[38;5;241m.\u001b[39mget(\u001b[38;5;124m'\u001b[39m\u001b[38;5;124mtext\u001b[39m\u001b[38;5;124m'\u001b[39m)\n\u001b[0;32m    242\u001b[0m     \u001b[38;5;28;01mraise\u001b[39;00m exception_class(message, screen, stacktrace, alert_text)  \u001b[38;5;66;03m# type: ignore[call-arg]  # mypy is not smart enough here\u001b[39;00m\n\u001b[1;32m--> 243\u001b[0m \u001b[38;5;28;01mraise\u001b[39;00m exception_class(message, screen, stacktrace)\n",
      "\u001b[1;31mInvalidSelectorException\u001b[0m: Message: invalid selector: An invalid or illegal selector was specified\n  (Session info: chrome=105.0.5195.102)\nStacktrace:\nBacktrace:\n\tOrdinal0 [0x00B6DF13+2219795]\n\tOrdinal0 [0x00B02841+1779777]\n\tOrdinal0 [0x00A1423D+803389]\n\tOrdinal0 [0x00A16D04+814340]\n\tOrdinal0 [0x00A16BC2+814018]\n\tOrdinal0 [0x00A16E50+814672]\n\tOrdinal0 [0x00A42D4F+994639]\n\tOrdinal0 [0x00A431EB+995819]\n\tOrdinal0 [0x00A70F52+1183570]\n\tOrdinal0 [0x00A5E844+1108036]\n\tOrdinal0 [0x00A6F192+1175954]\n\tOrdinal0 [0x00A5E616+1107478]\n\tOrdinal0 [0x00A37F89+950153]\n\tOrdinal0 [0x00A38F56+954198]\n\tGetHandleVerifier [0x00E62CB2+3040210]\n\tGetHandleVerifier [0x00E52BB4+2974420]\n\tGetHandleVerifier [0x00C06A0A+565546]\n\tGetHandleVerifier [0x00C05680+560544]\n\tOrdinal0 [0x00B09A5C+1808988]\n\tOrdinal0 [0x00B0E3A8+1827752]\n\tOrdinal0 [0x00B0E495+1827989]\n\tOrdinal0 [0x00B180A4+1867940]\n\tBaseThreadInitThunk [0x76626739+25]\n\tRtlGetFullPathName_UEx [0x779290AF+1215]\n\tRtlGetFullPathName_UEx [0x7792907D+1165]\n"
     ]
    }
   ],
   "source": [
    "# Connect to instagram\n",
    "driver.get(\"https://www.instagram.com/\")\n",
    "\n",
    "# Log in to Instagram\n",
    "time.sleep(5) #you're not a robot wait 5 seconds to run the next code script\n",
    "username=driver.find_element(\"css selector\",\"input[name='username']\")\n",
    "password=driver.find_element(\"css selector\",\"input[name='password']\")\n",
    "username.clear()\n",
    "password.clear()\n",
    "username.send_keys(\"lwddissertation\")\n",
    "password.send_keys(\"Sandia005!\")\n",
    "login = driver.find_element(\"css selector\",\"button[type='submit']\").click()\n",
    "\n",
    "# skip pop-ups\n",
    "#save your login info?\n",
    "time.sleep(10)\n",
    "notnow = driver.find_element(\"css selector\", \"//button[contains(text(), 'Not Now')]\").click()\n",
    "#turn on notif\n",
    "time.sleep(10)\n",
    "notnow_save_id = driver.find_element(\"xpath\", \"//button[contains(text(), 'Not Now')]\").click()\n",
    "notnow_notif = driver.find_element(\"xpath\", \"//button[contains(text(), 'Not Now')]\").click()"
   ]
  },
  {
   "cell_type": "code",
   "execution_count": 12,
   "id": "cc2e78ae",
   "metadata": {},
   "outputs": [],
   "source": []
  },
  {
   "cell_type": "code",
   "execution_count": 13,
   "id": "d2e04dca",
   "metadata": {},
   "outputs": [],
   "source": []
  },
  {
   "cell_type": "code",
   "execution_count": 14,
   "id": "97ed3934",
   "metadata": {},
   "outputs": [
    {
     "ename": "KeyboardInterrupt",
     "evalue": "",
     "output_type": "error",
     "traceback": [
      "\u001b[1;31m---------------------------------------------------------------------------\u001b[0m",
      "\u001b[1;31mKeyboardInterrupt\u001b[0m                         Traceback (most recent call last)",
      "Input \u001b[1;32mIn [14]\u001b[0m, in \u001b[0;36m<cell line: 16>\u001b[1;34m()\u001b[0m\n\u001b[0;32m     16\u001b[0m \u001b[38;5;28;01mwhile\u001b[39;00m(match\u001b[38;5;241m==\u001b[39m\u001b[38;5;28;01mFalse\u001b[39;00m):\n\u001b[0;32m     17\u001b[0m     last_count \u001b[38;5;241m=\u001b[39m scrolldown\n\u001b[1;32m---> 18\u001b[0m     \u001b[43mtime\u001b[49m\u001b[38;5;241;43m.\u001b[39;49m\u001b[43msleep\u001b[49m\u001b[43m(\u001b[49m\u001b[38;5;241;43m3\u001b[39;49m\u001b[43m)\u001b[49m\n\u001b[0;32m     19\u001b[0m     scrolldown \u001b[38;5;241m=\u001b[39m driver\u001b[38;5;241m.\u001b[39mexecute_script(\u001b[38;5;124m\"\u001b[39m\u001b[38;5;124mwindow.scrollTo(0, document.body.scrollHeight);var scrolldown=document.body.scrollHeight;return scrolldown;\u001b[39m\u001b[38;5;124m\"\u001b[39m)\n\u001b[0;32m     20\u001b[0m     \u001b[38;5;28;01mif\u001b[39;00m last_count\u001b[38;5;241m==\u001b[39mscrolldown:\n",
      "\u001b[1;31mKeyboardInterrupt\u001b[0m: "
     ]
    }
   ],
   "source": [
    "\n",
    "#start Searching\n",
    "#once this runs, create a for loop to loop through different search terms\n",
    "#searchbox\n",
    "time.sleep(5)\n",
    "searchbox=driver.find_element(\"css selector\",\"input[placeholder='Search']\")\n",
    "searchbox.clear()\n",
    "searchbox.send_keys(\"#mexicofeminicida\") #niunamenos\n",
    "time.sleep(5)\n",
    "searchbox.send_keys(Keys.ENTER)\n",
    "time.sleep(5)\n",
    "searchbox.send_keys(Keys.ENTER)\n",
    "\n",
    "# get the url for images in the search field\n",
    "scrolldown=driver.execute_script(\"window.scrollTo(0, document.body.scrollHeight);var scrolldown=document.body.scrollHeight;return scrolldown;\")\n",
    "match=False\n",
    "while(match==False):\n",
    "    last_count = scrolldown\n",
    "    time.sleep(3)\n",
    "    scrolldown = driver.execute_script(\"window.scrollTo(0, document.body.scrollHeight);var scrolldown=document.body.scrollHeight;return scrolldown;\")\n",
    "    if last_count==scrolldown:\n",
    "        match=True\n",
    "\n",
    "# get posts\n",
    "posts = []\n",
    "limit = 51 #zip will output -1 -- create limit for testing\n",
    "index = 0 #give posts their index\n",
    "links = driver.find_elements(\"tag name\",'a')\n",
    "for index, link in zip(range(limit), links):\n",
    "    post = link.get_attribute('href')\n",
    "    if '/p/' in post:\n",
    "        posts.append(post)\n",
    "print(index, posts)\n",
    "\n",
    "# Naive approach:\n",
    "# for link in links:\n",
    "#     post = link.get_attribute('href')\n",
    "#     index += 1\n",
    "#     if '/p/' in post:\n",
    "#         posts.append(post)\n",
    "#     if index == limit:\n",
    "#         break\n"
   ]
  },
  {
   "cell_type": "code",
   "execution_count": 26,
   "id": "a72339b5",
   "metadata": {},
   "outputs": [
    {
     "ename": "InvalidSelectorException",
     "evalue": "Message: invalid selector: An invalid or illegal selector was specified\n  (Session info: chrome=105.0.5195.102)\nStacktrace:\nBacktrace:\n\tOrdinal0 [0x00B6DF13+2219795]\n\tOrdinal0 [0x00B02841+1779777]\n\tOrdinal0 [0x00A1423D+803389]\n\tOrdinal0 [0x00A16D04+814340]\n\tOrdinal0 [0x00A16BC2+814018]\n\tOrdinal0 [0x00A16E50+814672]\n\tOrdinal0 [0x00A42D4F+994639]\n\tOrdinal0 [0x00A431EB+995819]\n\tOrdinal0 [0x00A70F52+1183570]\n\tOrdinal0 [0x00A5E844+1108036]\n\tOrdinal0 [0x00A6F192+1175954]\n\tOrdinal0 [0x00A5E616+1107478]\n\tOrdinal0 [0x00A37F89+950153]\n\tOrdinal0 [0x00A38F56+954198]\n\tGetHandleVerifier [0x00E62CB2+3040210]\n\tGetHandleVerifier [0x00E52BB4+2974420]\n\tGetHandleVerifier [0x00C06A0A+565546]\n\tGetHandleVerifier [0x00C05680+560544]\n\tOrdinal0 [0x00B09A5C+1808988]\n\tOrdinal0 [0x00B0E3A8+1827752]\n\tOrdinal0 [0x00B0E495+1827989]\n\tOrdinal0 [0x00B180A4+1867940]\n\tBaseThreadInitThunk [0x76626739+25]\n\tRtlGetFullPathName_UEx [0x779290AF+1215]\n\tRtlGetFullPathName_UEx [0x7792907D+1165]\n",
     "output_type": "error",
     "traceback": [
      "\u001b[1;31m---------------------------------------------------------------------------\u001b[0m",
      "\u001b[1;31mInvalidSelectorException\u001b[0m                  Traceback (most recent call last)",
      "Input \u001b[1;32mIn [26]\u001b[0m, in \u001b[0;36m<cell line: 3>\u001b[1;34m()\u001b[0m\n\u001b[0;32m      6\u001b[0m     time\u001b[38;5;241m.\u001b[39msleep(\u001b[38;5;241m7\u001b[39m)\n\u001b[0;32m      7\u001b[0m     \u001b[38;5;28;01mif\u001b[39;00m driver\u001b[38;5;241m.\u001b[39mfind_element(\u001b[38;5;124m\"\u001b[39m\u001b[38;5;124mcss selector\u001b[39m\u001b[38;5;124m\"\u001b[39m,\u001b[38;5;124m\"\u001b[39m\u001b[38;5;124mimg[style=\u001b[39m\u001b[38;5;124m'\u001b[39m\u001b[38;5;124mobject-fit: cover;\u001b[39m\u001b[38;5;124m'\u001b[39m\u001b[38;5;124m]\u001b[39m\u001b[38;5;124m\"\u001b[39m) \u001b[38;5;129;01mis\u001b[39;00m \u001b[38;5;129;01mnot\u001b[39;00m \u001b[38;5;28;01mNone\u001b[39;00m:\n\u001b[1;32m----> 8\u001b[0m         download_url \u001b[38;5;241m=\u001b[39m \u001b[43mdriver\u001b[49m\u001b[38;5;241;43m.\u001b[39;49m\u001b[43mfind_element\u001b[49m\u001b[43m(\u001b[49m\u001b[38;5;124;43m\"\u001b[39;49m\u001b[38;5;124;43mcss selector\u001b[39;49m\u001b[38;5;124;43m\"\u001b[39;49m\u001b[43m,\u001b[49m\u001b[38;5;124;43m\"\u001b[39;49m\u001b[38;5;124;43mimg[style= object-fit: cover;\u001b[39;49m\u001b[38;5;124;43m'\u001b[39;49m\u001b[38;5;124;43m]\u001b[39;49m\u001b[38;5;124;43m\"\u001b[39;49m\u001b[43m)\u001b[49m\u001b[38;5;241m.\u001b[39mget_attribute(\u001b[38;5;124m'\u001b[39m\u001b[38;5;124msrcset\u001b[39m\u001b[38;5;124m'\u001b[39m)\n\u001b[0;32m      9\u001b[0m         urllib\u001b[38;5;241m.\u001b[39mrequest\u001b[38;5;241m.\u001b[39murlretrieve( download_url, \u001b[38;5;124m'\u001b[39m\u001b[38;5;132;01m{}\u001b[39;00m\u001b[38;5;124m.jpg\u001b[39m\u001b[38;5;124m'\u001b[39m\u001b[38;5;241m.\u001b[39mformat(shortcode))\n\u001b[0;32m     10\u001b[0m \u001b[38;5;66;03m#     else:\u001b[39;00m\n\u001b[0;32m     11\u001b[0m \u001b[38;5;66;03m#         download_url = driver.find_element(\"css selector\",\"video[type='video/mp4']\").get_attribute('srcset')\u001b[39;00m\n\u001b[0;32m     12\u001b[0m \u001b[38;5;66;03m#         urllib.request.urlretrieve( download_url, '{}.mp4'.format(shortcode))\u001b[39;00m\n",
      "File \u001b[1;32m~\\anaconda3\\anaconda3_new\\lib\\site-packages\\selenium\\webdriver\\remote\\webdriver.py:855\u001b[0m, in \u001b[0;36mWebDriver.find_element\u001b[1;34m(self, by, value)\u001b[0m\n\u001b[0;32m    852\u001b[0m     by \u001b[38;5;241m=\u001b[39m By\u001b[38;5;241m.\u001b[39mCSS_SELECTOR\n\u001b[0;32m    853\u001b[0m     value \u001b[38;5;241m=\u001b[39m \u001b[38;5;124m'\u001b[39m\u001b[38;5;124m[name=\u001b[39m\u001b[38;5;124m\"\u001b[39m\u001b[38;5;132;01m%s\u001b[39;00m\u001b[38;5;124m\"\u001b[39m\u001b[38;5;124m]\u001b[39m\u001b[38;5;124m'\u001b[39m \u001b[38;5;241m%\u001b[39m value\n\u001b[1;32m--> 855\u001b[0m \u001b[38;5;28;01mreturn\u001b[39;00m \u001b[38;5;28;43mself\u001b[39;49m\u001b[38;5;241;43m.\u001b[39;49m\u001b[43mexecute\u001b[49m\u001b[43m(\u001b[49m\u001b[43mCommand\u001b[49m\u001b[38;5;241;43m.\u001b[39;49m\u001b[43mFIND_ELEMENT\u001b[49m\u001b[43m,\u001b[49m\u001b[43m \u001b[49m\u001b[43m{\u001b[49m\n\u001b[0;32m    856\u001b[0m \u001b[43m    \u001b[49m\u001b[38;5;124;43m'\u001b[39;49m\u001b[38;5;124;43musing\u001b[39;49m\u001b[38;5;124;43m'\u001b[39;49m\u001b[43m:\u001b[49m\u001b[43m \u001b[49m\u001b[43mby\u001b[49m\u001b[43m,\u001b[49m\n\u001b[0;32m    857\u001b[0m \u001b[43m    \u001b[49m\u001b[38;5;124;43m'\u001b[39;49m\u001b[38;5;124;43mvalue\u001b[39;49m\u001b[38;5;124;43m'\u001b[39;49m\u001b[43m:\u001b[49m\u001b[43m \u001b[49m\u001b[43mvalue\u001b[49m\u001b[43m}\u001b[49m\u001b[43m)\u001b[49m[\u001b[38;5;124m'\u001b[39m\u001b[38;5;124mvalue\u001b[39m\u001b[38;5;124m'\u001b[39m]\n",
      "File \u001b[1;32m~\\anaconda3\\anaconda3_new\\lib\\site-packages\\selenium\\webdriver\\remote\\webdriver.py:428\u001b[0m, in \u001b[0;36mWebDriver.execute\u001b[1;34m(self, driver_command, params)\u001b[0m\n\u001b[0;32m    426\u001b[0m response \u001b[38;5;241m=\u001b[39m \u001b[38;5;28mself\u001b[39m\u001b[38;5;241m.\u001b[39mcommand_executor\u001b[38;5;241m.\u001b[39mexecute(driver_command, params)\n\u001b[0;32m    427\u001b[0m \u001b[38;5;28;01mif\u001b[39;00m response:\n\u001b[1;32m--> 428\u001b[0m     \u001b[38;5;28;43mself\u001b[39;49m\u001b[38;5;241;43m.\u001b[39;49m\u001b[43merror_handler\u001b[49m\u001b[38;5;241;43m.\u001b[39;49m\u001b[43mcheck_response\u001b[49m\u001b[43m(\u001b[49m\u001b[43mresponse\u001b[49m\u001b[43m)\u001b[49m\n\u001b[0;32m    429\u001b[0m     response[\u001b[38;5;124m'\u001b[39m\u001b[38;5;124mvalue\u001b[39m\u001b[38;5;124m'\u001b[39m] \u001b[38;5;241m=\u001b[39m \u001b[38;5;28mself\u001b[39m\u001b[38;5;241m.\u001b[39m_unwrap_value(\n\u001b[0;32m    430\u001b[0m         response\u001b[38;5;241m.\u001b[39mget(\u001b[38;5;124m'\u001b[39m\u001b[38;5;124mvalue\u001b[39m\u001b[38;5;124m'\u001b[39m, \u001b[38;5;28;01mNone\u001b[39;00m))\n\u001b[0;32m    431\u001b[0m     \u001b[38;5;28;01mreturn\u001b[39;00m response\n",
      "File \u001b[1;32m~\\anaconda3\\anaconda3_new\\lib\\site-packages\\selenium\\webdriver\\remote\\errorhandler.py:243\u001b[0m, in \u001b[0;36mErrorHandler.check_response\u001b[1;34m(self, response)\u001b[0m\n\u001b[0;32m    241\u001b[0m         alert_text \u001b[38;5;241m=\u001b[39m value[\u001b[38;5;124m'\u001b[39m\u001b[38;5;124malert\u001b[39m\u001b[38;5;124m'\u001b[39m]\u001b[38;5;241m.\u001b[39mget(\u001b[38;5;124m'\u001b[39m\u001b[38;5;124mtext\u001b[39m\u001b[38;5;124m'\u001b[39m)\n\u001b[0;32m    242\u001b[0m     \u001b[38;5;28;01mraise\u001b[39;00m exception_class(message, screen, stacktrace, alert_text)  \u001b[38;5;66;03m# type: ignore[call-arg]  # mypy is not smart enough here\u001b[39;00m\n\u001b[1;32m--> 243\u001b[0m \u001b[38;5;28;01mraise\u001b[39;00m exception_class(message, screen, stacktrace)\n",
      "\u001b[1;31mInvalidSelectorException\u001b[0m: Message: invalid selector: An invalid or illegal selector was specified\n  (Session info: chrome=105.0.5195.102)\nStacktrace:\nBacktrace:\n\tOrdinal0 [0x00B6DF13+2219795]\n\tOrdinal0 [0x00B02841+1779777]\n\tOrdinal0 [0x00A1423D+803389]\n\tOrdinal0 [0x00A16D04+814340]\n\tOrdinal0 [0x00A16BC2+814018]\n\tOrdinal0 [0x00A16E50+814672]\n\tOrdinal0 [0x00A42D4F+994639]\n\tOrdinal0 [0x00A431EB+995819]\n\tOrdinal0 [0x00A70F52+1183570]\n\tOrdinal0 [0x00A5E844+1108036]\n\tOrdinal0 [0x00A6F192+1175954]\n\tOrdinal0 [0x00A5E616+1107478]\n\tOrdinal0 [0x00A37F89+950153]\n\tOrdinal0 [0x00A38F56+954198]\n\tGetHandleVerifier [0x00E62CB2+3040210]\n\tGetHandleVerifier [0x00E52BB4+2974420]\n\tGetHandleVerifier [0x00C06A0A+565546]\n\tGetHandleVerifier [0x00C05680+560544]\n\tOrdinal0 [0x00B09A5C+1808988]\n\tOrdinal0 [0x00B0E3A8+1827752]\n\tOrdinal0 [0x00B0E495+1827989]\n\tOrdinal0 [0x00B180A4+1867940]\n\tBaseThreadInitThunk [0x76626739+25]\n\tRtlGetFullPathName_UEx [0x779290AF+1215]\n\tRtlGetFullPathName_UEx [0x7792907D+1165]\n"
     ]
    }
   ],
   "source": [
    "#get posts and images\n",
    "download_url = ''\n",
    "for post in posts:\n",
    "    driver.get(post)\n",
    "    shortcode = driver.current_url.split(\"/\")[-2]\n",
    "    time.sleep(7)\n",
    "    if driver.find_element(\"css selector\",\"img[style='object-fit: cover;']\") is not None:\n",
    "        download_url = driver.find_element(\"css selector\",\"img[style= object-fit: cover;']\").get_attribute('srcset')\n",
    "        urllib.request.urlretrieve(download_url, '{}.jpg'.format(shortcode))\n",
    "#     else:\n",
    "#         download_url = driver.find_element(\"css selector\",\"video[type='video/mp4']\").get_attribute('srcset')\n",
    "#         urllib.request.urlretrieve( download_url, '{}.mp4'.format(shortcode))\n",
    "    time.sleep(7)\n",
    "    \n",
    "    \n",
    "# find out how to get descriptions and other things\n",
    "#Example src:\n",
    "# <img alt=\"Photo by Antimonumenta VivasNosQueremos on March 07, 2022. May be an image of 1 person and outdoors.\" class=\"_aagt\" crossorigin=\"anonymous\" decoding=\"auto\" style=\"object-fit: cover;\" sizes=\"321px\" srcset=\"https://scontent-lax3-2.cdninstagram.com/v/t51.2885-15/275499855_508022327609916_807688788345566585_n.jpg?stp=dst-jpg_e35_s1080x1080&amp;_nc_ht=scontent-lax3-2.cdninstagram.com&amp;_nc_cat=100&amp;_nc_ohc=UpjlThAhPOoAX9Qkg8Q&amp;edm=ALQROFkBAAAA&amp;ccb=7-5&amp;ig_cache_key=Mjc4OTEzNDk5OTEzODA1MDUxMg%3D%3D.2-ccb7-5&amp;oh=00_AT8z-RGIISPGQbPog6glGDnx46wb55b64J6ruizTehVeyg&amp;oe=6327C219&amp;_nc_sid=30a2ef 1080w,https://scontent-lax3-2.cdninstagram.com/v/t51.2885-15/275499855_508022327609916_807688788345566585_n.jpg?stp=dst-jpg_e35_s750x750_sh0.08&amp;_nc_ht=scontent-lax3-2.cdninstagram.com&amp;_nc_cat=100&amp;_nc_ohc=UpjlThAhPOoAX9Qkg8Q&amp;edm=ALQROFkBAAAA&amp;ccb=7-5&amp;ig_cache_key=Mjc4OTEzNDk5OTEzODA1MDUxMg%3D%3D.2-ccb7-5&amp;oh=00_AT_-6yJEzv8AA8EFDOLMw6vBKIv_ZPFNrmnkVLOFkV9jcw&amp;oe=6327C219&amp;_nc_sid=30a2ef 750w,https://scontent-lax3-2.cdninstagram.com/v/t51.2885-15/275499855_508022327609916_807688788345566585_n.jpg?stp=dst-jpg_e35_s640x640_sh0.08&amp;_nc_ht=scontent-lax3-2.cdninstagram.com&amp;_nc_cat=100&amp;_nc_ohc=UpjlThAhPOoAX9Qkg8Q&amp;edm=ALQROFkBAAAA&amp;ccb=7-5&amp;ig_cache_key=Mjc4OTEzNDk5OTEzODA1MDUxMg%3D%3D.2-ccb7-5&amp;oh=00_AT_3CsaXizaE2DKLEKCCyxKVh_1rhzRg9e2FwvwUX8CqQg&amp;oe=6327C219&amp;_nc_sid=30a2ef 640w,https://scontent-lax3-2.cdninstagram.com/v/t51.2885-15/275499855_508022327609916_807688788345566585_n.jpg?stp=dst-jpg_e35_s480x480&amp;_nc_ht=scontent-lax3-2.cdninstagram.com&amp;_nc_cat=100&amp;_nc_ohc=UpjlThAhPOoAX9Qkg8Q&amp;edm=ALQROFkBAAAA&amp;ccb=7-5&amp;ig_cache_key=Mjc4OTEzNDk5OTEzODA1MDUxMg%3D%3D.2-ccb7-5&amp;oh=00_AT-l8MsZFOPvCZb0FZX44Yy9Q1jL1eCoLST9aTOX9nCzmw&amp;oe=6327C219&amp;_nc_sid=30a2ef 480w,https://scontent-lax3-2.cdninstagram.com/v/t51.2885-15/275499855_508022327609916_807688788345566585_n.jpg?stp=dst-jpg_e35_s320x320&amp;_nc_ht=scontent-lax3-2.cdninstagram.com&amp;_nc_cat=100&amp;_nc_ohc=UpjlThAhPOoAX9Qkg8Q&amp;edm=ALQROFkBAAAA&amp;ccb=7-5&amp;ig_cache_key=Mjc4OTEzNDk5OTEzODA1MDUxMg%3D%3D.2-ccb7-5&amp;oh=00_AT9B60jdvhzm9GQcR2M0lnfO-CKF_xbDwgec33lTOkiDbg&amp;oe=6327C219&amp;_nc_sid=30a2ef 320w,https://scontent-lax3-2.cdninstagram.com/v/t51.2885-15/275499855_508022327609916_807688788345566585_n.jpg?stp=dst-jpg_e35_s240x240&amp;_nc_ht=scontent-lax3-2.cdninstagram.com&amp;_nc_cat=100&amp;_nc_ohc=UpjlThAhPOoAX9Qkg8Q&amp;edm=ALQROFkBAAAA&amp;ccb=7-5&amp;ig_cache_key=Mjc4OTEzNDk5OTEzODA1MDUxMg%3D%3D.2-ccb7-5&amp;oh=00_AT9YMkz8Xj8R2blp7AI9_qDAZTn43jNp_OAc10x3tgWUMA&amp;oe=6327C219&amp;_nc_sid=30a2ef 240w\" src=\"https://scontent-lax3-2.cdninstagram.com/v/t51.2885-15/275499855_508022327609916_807688788345566585_n.jpg?stp=dst-jpg_e35&amp;_nc_ht=scontent-lax3-2.cdninstagram.com&amp;_nc_cat=100&amp;_nc_ohc=UpjlThAhPOoAX9Qkg8Q&amp;edm=ALQROFkBAAAA&amp;ccb=7-5&amp;ig_cache_key=Mjc4OTEzNDk5OTEzODA1MDUxMg%3D%3D.2-ccb7-5&amp;oh=00_AT-BKQfiNbRnsBk3RsKfe2pW0k-8aAtTPepPKmTH-o-QYA&amp;oe=6327C219&amp;_nc_sid=30a2ef\">"
   ]
  }
 ],
 "metadata": {
  "kernelspec": {
   "display_name": "Python 3 (ipykernel)",
   "language": "python",
   "name": "python3"
  },
  "language_info": {
   "codemirror_mode": {
    "name": "ipython",
    "version": 3
   },
   "file_extension": ".py",
   "mimetype": "text/x-python",
   "name": "python",
   "nbconvert_exporter": "python",
   "pygments_lexer": "ipython3",
   "version": "3.9.12"
  }
 },
 "nbformat": 4,
 "nbformat_minor": 5
}
